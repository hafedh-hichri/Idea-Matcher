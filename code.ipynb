{
 "cells": [
  {
   "cell_type": "code",
   "execution_count": 4,
   "metadata": {},
   "outputs": [],
   "source": [
    "import pandas as pd \n",
    "df = pd.read_excel('./Example of the original database (1).xlsx')"
   ]
  },
  {
   "cell_type": "code",
   "execution_count": 5,
   "metadata": {},
   "outputs": [
    {
     "data": {
      "text/html": [
       "<div>\n",
       "<style scoped>\n",
       "    .dataframe tbody tr th:only-of-type {\n",
       "        vertical-align: middle;\n",
       "    }\n",
       "\n",
       "    .dataframe tbody tr th {\n",
       "        vertical-align: top;\n",
       "    }\n",
       "\n",
       "    .dataframe thead th {\n",
       "        text-align: right;\n",
       "    }\n",
       "</style>\n",
       "<table border=\"1\" class=\"dataframe\">\n",
       "  <thead>\n",
       "    <tr style=\"text-align: right;\">\n",
       "      <th></th>\n",
       "      <th>First Name</th>\n",
       "      <th>Last Name</th>\n",
       "      <th>Employee Name</th>\n",
       "      <th>Title</th>\n",
       "      <th>Type</th>\n",
       "      <th>Sector</th>\n",
       "      <th>Key words</th>\n",
       "      <th>Problem/Opportunity</th>\n",
       "      <th>Description</th>\n",
       "      <th>Added Value</th>\n",
       "      <th>...</th>\n",
       "      <th>Colonne16364</th>\n",
       "      <th>Colonne16365</th>\n",
       "      <th>Colonne16366</th>\n",
       "      <th>Colonne16367</th>\n",
       "      <th>Colonne16368</th>\n",
       "      <th>Colonne16369</th>\n",
       "      <th>Colonne16370</th>\n",
       "      <th>Colonne16371</th>\n",
       "      <th>Colonne16372</th>\n",
       "      <th>Colonne16373</th>\n",
       "    </tr>\n",
       "  </thead>\n",
       "  <tbody>\n",
       "    <tr>\n",
       "      <th>0</th>\n",
       "      <td>Preston</td>\n",
       "      <td>Crawford</td>\n",
       "      <td>Preston Crawford</td>\n",
       "      <td>Brand Websites &amp; Web Pages</td>\n",
       "      <td>Product/Service</td>\n",
       "      <td>Marketing Digital</td>\n",
       "      <td>Website, Business, commerce</td>\n",
       "      <td>grow your business and increase leads</td>\n",
       "      <td>A confident online presence is essential and c...</td>\n",
       "      <td>Business growth, confidance of the clients, be...</td>\n",
       "      <td>...</td>\n",
       "      <td>NaN</td>\n",
       "      <td>NaN</td>\n",
       "      <td>NaN</td>\n",
       "      <td>NaN</td>\n",
       "      <td>NaN</td>\n",
       "      <td>NaN</td>\n",
       "      <td>NaN</td>\n",
       "      <td>NaN</td>\n",
       "      <td>NaN</td>\n",
       "      <td>NaN</td>\n",
       "    </tr>\n",
       "    <tr>\n",
       "      <th>1</th>\n",
       "      <td>Violet</td>\n",
       "      <td>Phillips</td>\n",
       "      <td>Violet Phillips</td>\n",
       "      <td>Microsites &amp; Topic Hubs</td>\n",
       "      <td>Product/Service</td>\n",
       "      <td>Marketing Digital</td>\n",
       "      <td>Microsite, Business, contents</td>\n",
       "      <td>focuses on branded content or a single topic  ...</td>\n",
       "      <td>A microsite is a website separate from your ma...</td>\n",
       "      <td>Being more professional, details, innovative</td>\n",
       "      <td>...</td>\n",
       "      <td>NaN</td>\n",
       "      <td>NaN</td>\n",
       "      <td>NaN</td>\n",
       "      <td>NaN</td>\n",
       "      <td>NaN</td>\n",
       "      <td>NaN</td>\n",
       "      <td>NaN</td>\n",
       "      <td>NaN</td>\n",
       "      <td>NaN</td>\n",
       "      <td>NaN</td>\n",
       "    </tr>\n",
       "    <tr>\n",
       "      <th>2</th>\n",
       "      <td>Frederick</td>\n",
       "      <td>Walker</td>\n",
       "      <td>Frederick Walker</td>\n",
       "      <td>Blogs &amp; Blog Posts</td>\n",
       "      <td>Product/Service</td>\n",
       "      <td>Marketing Digital</td>\n",
       "      <td>Blog, contents, search engine</td>\n",
       "      <td>connect with your customers and answer their p...</td>\n",
       "      <td>The main purpose of a blog is to connect with ...</td>\n",
       "      <td>blog with high-quality and relevant blog posts...</td>\n",
       "      <td>...</td>\n",
       "      <td>NaN</td>\n",
       "      <td>NaN</td>\n",
       "      <td>NaN</td>\n",
       "      <td>NaN</td>\n",
       "      <td>NaN</td>\n",
       "      <td>NaN</td>\n",
       "      <td>NaN</td>\n",
       "      <td>NaN</td>\n",
       "      <td>NaN</td>\n",
       "      <td>NaN</td>\n",
       "    </tr>\n",
       "    <tr>\n",
       "      <th>3</th>\n",
       "      <td>Wilson</td>\n",
       "      <td>Henderson</td>\n",
       "      <td>Wilson Henderson</td>\n",
       "      <td>Videos</td>\n",
       "      <td>Product/Service</td>\n",
       "      <td>Marketing Digital</td>\n",
       "      <td>Video, contents, audiance</td>\n",
       "      <td>explainer, onboarding, promotional, social, a...</td>\n",
       "      <td>Another common digital marketing idea is to in...</td>\n",
       "      <td>a versatile and shareable tool to reach their ...</td>\n",
       "      <td>...</td>\n",
       "      <td>NaN</td>\n",
       "      <td>NaN</td>\n",
       "      <td>NaN</td>\n",
       "      <td>NaN</td>\n",
       "      <td>NaN</td>\n",
       "      <td>NaN</td>\n",
       "      <td>NaN</td>\n",
       "      <td>NaN</td>\n",
       "      <td>NaN</td>\n",
       "      <td>NaN</td>\n",
       "    </tr>\n",
       "    <tr>\n",
       "      <th>4</th>\n",
       "      <td>Thomas</td>\n",
       "      <td>Bailey</td>\n",
       "      <td>Thomas Bailey</td>\n",
       "      <td>Ebooks</td>\n",
       "      <td>Product/Service</td>\n",
       "      <td>Marketing Digital</td>\n",
       "      <td>Ebook, Digital, audiance</td>\n",
       "      <td>They can be downloadable gifts to prospects an...</td>\n",
       "      <td>EBooks are a great way to strengthen your bran...</td>\n",
       "      <td>strengthen your brand and reach a broad audience</td>\n",
       "      <td>...</td>\n",
       "      <td>NaN</td>\n",
       "      <td>NaN</td>\n",
       "      <td>NaN</td>\n",
       "      <td>NaN</td>\n",
       "      <td>NaN</td>\n",
       "      <td>NaN</td>\n",
       "      <td>NaN</td>\n",
       "      <td>NaN</td>\n",
       "      <td>NaN</td>\n",
       "      <td>NaN</td>\n",
       "    </tr>\n",
       "  </tbody>\n",
       "</table>\n",
       "<p>5 rows × 16384 columns</p>\n",
       "</div>"
      ],
      "text/plain": [
       "  First Name  Last Name     Employee Name                       Title  \\\n",
       "0    Preston   Crawford  Preston Crawford  Brand Websites & Web Pages   \n",
       "1     Violet   Phillips   Violet Phillips     Microsites & Topic Hubs   \n",
       "2  Frederick     Walker  Frederick Walker          Blogs & Blog Posts   \n",
       "3     Wilson  Henderson  Wilson Henderson                      Videos   \n",
       "4     Thomas     Bailey     Thomas Bailey                      Ebooks   \n",
       "\n",
       "              Type              Sector                      Key words  \\\n",
       "0  Product/Service  Marketing Digital     Website, Business, commerce   \n",
       "1  Product/Service  Marketing Digital   Microsite, Business, contents   \n",
       "2  Product/Service  Marketing Digital   Blog, contents, search engine   \n",
       "3  Product/Service  Marketing Digital       Video, contents, audiance   \n",
       "4  Product/Service  Marketing Digital        Ebook, Digital, audiance   \n",
       "\n",
       "                                 Problem/Opportunity  \\\n",
       "0              grow your business and increase leads   \n",
       "1  focuses on branded content or a single topic  ...   \n",
       "2  connect with your customers and answer their p...   \n",
       "3   explainer, onboarding, promotional, social, a...   \n",
       "4  They can be downloadable gifts to prospects an...   \n",
       "\n",
       "                                         Description  \\\n",
       "0  A confident online presence is essential and c...   \n",
       "1  A microsite is a website separate from your ma...   \n",
       "2  The main purpose of a blog is to connect with ...   \n",
       "3  Another common digital marketing idea is to in...   \n",
       "4  EBooks are a great way to strengthen your bran...   \n",
       "\n",
       "                                         Added Value  ... Colonne16364  \\\n",
       "0  Business growth, confidance of the clients, be...  ...          NaN   \n",
       "1       Being more professional, details, innovative  ...          NaN   \n",
       "2  blog with high-quality and relevant blog posts...  ...          NaN   \n",
       "3  a versatile and shareable tool to reach their ...  ...          NaN   \n",
       "4   strengthen your brand and reach a broad audience  ...          NaN   \n",
       "\n",
       "   Colonne16365  Colonne16366  Colonne16367  Colonne16368  Colonne16369  \\\n",
       "0           NaN           NaN           NaN           NaN           NaN   \n",
       "1           NaN           NaN           NaN           NaN           NaN   \n",
       "2           NaN           NaN           NaN           NaN           NaN   \n",
       "3           NaN           NaN           NaN           NaN           NaN   \n",
       "4           NaN           NaN           NaN           NaN           NaN   \n",
       "\n",
       "   Colonne16370  Colonne16371  Colonne16372  Colonne16373  \n",
       "0           NaN           NaN           NaN           NaN  \n",
       "1           NaN           NaN           NaN           NaN  \n",
       "2           NaN           NaN           NaN           NaN  \n",
       "3           NaN           NaN           NaN           NaN  \n",
       "4           NaN           NaN           NaN           NaN  \n",
       "\n",
       "[5 rows x 16384 columns]"
      ]
     },
     "execution_count": 5,
     "metadata": {},
     "output_type": "execute_result"
    }
   ],
   "source": [
    "df.head()"
   ]
  },
  {
   "cell_type": "code",
   "execution_count": 10,
   "metadata": {},
   "outputs": [],
   "source": [
    "df = df.iloc[:,:11]"
   ]
  },
  {
   "cell_type": "code",
   "execution_count": 13,
   "metadata": {},
   "outputs": [
    {
     "data": {
      "text/html": [
       "<div>\n",
       "<style scoped>\n",
       "    .dataframe tbody tr th:only-of-type {\n",
       "        vertical-align: middle;\n",
       "    }\n",
       "\n",
       "    .dataframe tbody tr th {\n",
       "        vertical-align: top;\n",
       "    }\n",
       "\n",
       "    .dataframe thead th {\n",
       "        text-align: right;\n",
       "    }\n",
       "</style>\n",
       "<table border=\"1\" class=\"dataframe\">\n",
       "  <thead>\n",
       "    <tr style=\"text-align: right;\">\n",
       "      <th></th>\n",
       "      <th>First Name</th>\n",
       "      <th>Last Name</th>\n",
       "      <th>Employee Name</th>\n",
       "      <th>Title</th>\n",
       "      <th>Type</th>\n",
       "      <th>Sector</th>\n",
       "      <th>Key words</th>\n",
       "      <th>Problem/Opportunity</th>\n",
       "      <th>Description</th>\n",
       "      <th>Added Value</th>\n",
       "      <th>Impact</th>\n",
       "    </tr>\n",
       "  </thead>\n",
       "  <tbody>\n",
       "    <tr>\n",
       "      <th>0</th>\n",
       "      <td>Preston</td>\n",
       "      <td>Crawford</td>\n",
       "      <td>Preston Crawford</td>\n",
       "      <td>Brand Websites &amp; Web Pages</td>\n",
       "      <td>Product/Service</td>\n",
       "      <td>Marketing Digital</td>\n",
       "      <td>Website, Business, commerce</td>\n",
       "      <td>grow your business and increase leads</td>\n",
       "      <td>A confident online presence is essential and c...</td>\n",
       "      <td>Business growth, confidance of the clients, be...</td>\n",
       "      <td>Profit growth, customer's loyalty</td>\n",
       "    </tr>\n",
       "    <tr>\n",
       "      <th>1</th>\n",
       "      <td>Violet</td>\n",
       "      <td>Phillips</td>\n",
       "      <td>Violet Phillips</td>\n",
       "      <td>Microsites &amp; Topic Hubs</td>\n",
       "      <td>Product/Service</td>\n",
       "      <td>Marketing Digital</td>\n",
       "      <td>Microsite, Business, contents</td>\n",
       "      <td>focuses on branded content or a single topic  ...</td>\n",
       "      <td>A microsite is a website separate from your ma...</td>\n",
       "      <td>Being more professional, details, innovative</td>\n",
       "      <td>specific contents and well organized business</td>\n",
       "    </tr>\n",
       "    <tr>\n",
       "      <th>2</th>\n",
       "      <td>Frederick</td>\n",
       "      <td>Walker</td>\n",
       "      <td>Frederick Walker</td>\n",
       "      <td>Blogs &amp; Blog Posts</td>\n",
       "      <td>Product/Service</td>\n",
       "      <td>Marketing Digital</td>\n",
       "      <td>Blog, contents, search engine</td>\n",
       "      <td>connect with your customers and answer their p...</td>\n",
       "      <td>The main purpose of a blog is to connect with ...</td>\n",
       "      <td>blog with high-quality and relevant blog posts...</td>\n",
       "      <td>source of content that can be repurposed into ...</td>\n",
       "    </tr>\n",
       "    <tr>\n",
       "      <th>3</th>\n",
       "      <td>Wilson</td>\n",
       "      <td>Henderson</td>\n",
       "      <td>Wilson Henderson</td>\n",
       "      <td>Videos</td>\n",
       "      <td>Product/Service</td>\n",
       "      <td>Marketing Digital</td>\n",
       "      <td>Video, contents, audiance</td>\n",
       "      <td>explainer, onboarding, promotional, social, a...</td>\n",
       "      <td>Another common digital marketing idea is to in...</td>\n",
       "      <td>a versatile and shareable tool to reach their ...</td>\n",
       "      <td>being efficient and convenient</td>\n",
       "    </tr>\n",
       "    <tr>\n",
       "      <th>4</th>\n",
       "      <td>Thomas</td>\n",
       "      <td>Bailey</td>\n",
       "      <td>Thomas Bailey</td>\n",
       "      <td>Ebooks</td>\n",
       "      <td>Product/Service</td>\n",
       "      <td>Marketing Digital</td>\n",
       "      <td>Ebook, Digital, audiance</td>\n",
       "      <td>They can be downloadable gifts to prospects an...</td>\n",
       "      <td>EBooks are a great way to strengthen your bran...</td>\n",
       "      <td>strengthen your brand and reach a broad audience</td>\n",
       "      <td>feels like a personal object of value you’re ...</td>\n",
       "    </tr>\n",
       "  </tbody>\n",
       "</table>\n",
       "</div>"
      ],
      "text/plain": [
       "  First Name  Last Name     Employee Name                       Title  \\\n",
       "0    Preston   Crawford  Preston Crawford  Brand Websites & Web Pages   \n",
       "1     Violet   Phillips   Violet Phillips     Microsites & Topic Hubs   \n",
       "2  Frederick     Walker  Frederick Walker          Blogs & Blog Posts   \n",
       "3     Wilson  Henderson  Wilson Henderson                      Videos   \n",
       "4     Thomas     Bailey     Thomas Bailey                      Ebooks   \n",
       "\n",
       "              Type              Sector                      Key words  \\\n",
       "0  Product/Service  Marketing Digital     Website, Business, commerce   \n",
       "1  Product/Service  Marketing Digital   Microsite, Business, contents   \n",
       "2  Product/Service  Marketing Digital   Blog, contents, search engine   \n",
       "3  Product/Service  Marketing Digital       Video, contents, audiance   \n",
       "4  Product/Service  Marketing Digital        Ebook, Digital, audiance   \n",
       "\n",
       "                                 Problem/Opportunity  \\\n",
       "0              grow your business and increase leads   \n",
       "1  focuses on branded content or a single topic  ...   \n",
       "2  connect with your customers and answer their p...   \n",
       "3   explainer, onboarding, promotional, social, a...   \n",
       "4  They can be downloadable gifts to prospects an...   \n",
       "\n",
       "                                         Description  \\\n",
       "0  A confident online presence is essential and c...   \n",
       "1  A microsite is a website separate from your ma...   \n",
       "2  The main purpose of a blog is to connect with ...   \n",
       "3  Another common digital marketing idea is to in...   \n",
       "4  EBooks are a great way to strengthen your bran...   \n",
       "\n",
       "                                         Added Value  \\\n",
       "0  Business growth, confidance of the clients, be...   \n",
       "1       Being more professional, details, innovative   \n",
       "2  blog with high-quality and relevant blog posts...   \n",
       "3  a versatile and shareable tool to reach their ...   \n",
       "4   strengthen your brand and reach a broad audience   \n",
       "\n",
       "                                              Impact  \n",
       "0                  Profit growth, customer's loyalty  \n",
       "1      specific contents and well organized business  \n",
       "2  source of content that can be repurposed into ...  \n",
       "3                     being efficient and convenient  \n",
       "4   feels like a personal object of value you’re ...  "
      ]
     },
     "execution_count": 13,
     "metadata": {},
     "output_type": "execute_result"
    }
   ],
   "source": [
    "df.head()"
   ]
  },
  {
   "cell_type": "code",
   "execution_count": 21,
   "metadata": {},
   "outputs": [],
   "source": [
    "sentences = df['Description'].values"
   ]
  },
  {
   "cell_type": "code",
   "execution_count": 17,
   "metadata": {},
   "outputs": [
    {
     "data": {
      "text/plain": [
       "'A confident online presence is essential and can have an unprecedented impact on your company’s success. However, some businesses still don’t realize that most of their customers visit their websites before purchasing. If you want to grow your business and increase leads, you need to build a great website with an immediately attractive and informative landing page.'"
      ]
     },
     "execution_count": 17,
     "metadata": {},
     "output_type": "execute_result"
    }
   ],
   "source": []
  },
  {
   "cell_type": "code",
   "execution_count": 18,
   "metadata": {},
   "outputs": [],
   "source": [
    "# Initialize logging.\n",
    "import logging\n",
    "logging.basicConfig(\n",
    "    format='%(asctime)s : %(levelname)s : %(message)s', level=logging.INFO)\n"
   ]
  },
  {
   "cell_type": "code",
   "execution_count": 19,
   "metadata": {},
   "outputs": [
    {
     "name": "stderr",
     "output_type": "stream",
     "text": [
      "[nltk_data] Downloading package stopwords to\n",
      "[nltk_data]     C:\\Users\\hhich\\AppData\\Roaming\\nltk_data...\n",
      "[nltk_data]   Package stopwords is already up-to-date!\n"
     ]
    }
   ],
   "source": [
    "# Import and download stopwords from NLTK.\n",
    "from nltk.corpus import stopwords\n",
    "from nltk import download\n",
    "download('stopwords')  # Download stopwords list.\n",
    "stop_words = stopwords.words('english')"
   ]
  },
  {
   "cell_type": "code",
   "execution_count": 20,
   "metadata": {},
   "outputs": [],
   "source": [
    "def preprocess(sentence):\n",
    "    return [w for w in sentence.lower().split() if w not in stop_words]\n"
   ]
  },
  {
   "cell_type": "code",
   "execution_count": 22,
   "metadata": {},
   "outputs": [],
   "source": [
    "processed_sentences = []\n",
    "for sentence in sentences : \n",
    "    processed_sentences.append(preprocess(sentence))"
   ]
  },
  {
   "cell_type": "code",
   "execution_count": 23,
   "metadata": {},
   "outputs": [
    {
     "name": "stderr",
     "output_type": "stream",
     "text": [
      "2022-12-28 01:27:52,749 : INFO : adding document #0 to Dictionary(0 unique tokens: [])\n",
      "2022-12-28 01:27:52,767 : INFO : built Dictionary(6095 unique tokens: ['attractive', 'build', 'business', 'businesses', 'company’s']...) from 400 documents (total 17524 corpus positions)\n",
      "2022-12-28 01:27:52,768 : INFO : Dictionary lifecycle event {'msg': \"built Dictionary(6095 unique tokens: ['attractive', 'build', 'business', 'businesses', 'company’s']...) from 400 documents (total 17524 corpus positions)\", 'datetime': '2022-12-28T01:27:52.768198', 'gensim': '4.1.2', 'python': '3.9.13 (main, Aug 25 2022, 23:51:50) [MSC v.1916 64 bit (AMD64)]', 'platform': 'Windows-10-10.0.22621-SP0', 'event': 'created'}\n"
     ]
    }
   ],
   "source": [
    "# Define dictionary and create bag of words\n",
    "from gensim.corpora import Dictionary\n",
    "dictionary = Dictionary(processed_sentences)\n",
    "bow = [dictionary.doc2bow(sentence) for sentence in processed_sentences]"
   ]
  },
  {
   "cell_type": "code",
   "execution_count": 25,
   "metadata": {},
   "outputs": [
    {
     "name": "stderr",
     "output_type": "stream",
     "text": [
      "2022-12-28 01:33:43,168 : INFO : collecting document frequencies\n",
      "2022-12-28 01:33:43,169 : INFO : PROGRESS: processing document #0\n",
      "2022-12-28 01:33:43,185 : INFO : TfidfModel lifecycle event {'msg': 'calculated IDF weights for 400 documents and 6095 features (15802 matrix non-zeros)', 'datetime': '2022-12-28T01:33:43.185833', 'gensim': '4.1.2', 'python': '3.9.13 (main, Aug 25 2022, 23:51:50) [MSC v.1916 64 bit (AMD64)]', 'platform': 'Windows-10-10.0.22621-SP0', 'event': 'initialize'}\n"
     ]
    }
   ],
   "source": [
    "# Creating the Term Frequency - Inverse Document Frequency\n",
    "from gensim.models import TfidfModel\n",
    "tfidf = TfidfModel(bow)\n",
    "tfidf_sentences = [tfidf[sentence] for sentence in bow]"
   ]
  },
  {
   "cell_type": "code",
   "execution_count": 26,
   "metadata": {},
   "outputs": [
    {
     "name": "stdout",
     "output_type": "stream",
     "text": [
      "[==================================================] 100.0% 1662.8/1662.8MB downloaded\n"
     ]
    },
    {
     "name": "stderr",
     "output_type": "stream",
     "text": [
      "2022-12-28 02:42:49,626 : INFO : word2vec-google-news-300 downloaded\n",
      "2022-12-28 02:42:49,656 : INFO : loading projection weights from C:\\Users\\hhich/gensim-data\\word2vec-google-news-300\\word2vec-google-news-300.gz\n",
      "2022-12-28 02:43:27,996 : INFO : KeyedVectors lifecycle event {'msg': 'loaded (3000000, 300) matrix of type float32 from C:\\\\Users\\\\hhich/gensim-data\\\\word2vec-google-news-300\\\\word2vec-google-news-300.gz', 'binary': True, 'encoding': 'utf8', 'datetime': '2022-12-28T02:43:27.996882', 'gensim': '4.1.2', 'python': '3.9.13 (main, Aug 25 2022, 23:51:50) [MSC v.1916 64 bit (AMD64)]', 'platform': 'Windows-10-10.0.22621-SP0', 'event': 'load_word2vec_format'}\n",
      "2022-12-28 02:43:28,021 : INFO : constructing a sparse term similarity matrix using WordEmbeddingSimilarityIndex(keyedvectors=<gensim.models.keyedvectors.KeyedVectors object at 0x000001CA8A9BB640>, threshold=0.0, exponent=2.0, kwargs={})\n",
      "2022-12-28 02:43:28,086 : INFO : iterating over 6095 columns in tf-idf order\n",
      "100%|██████████| 6095/6095 [12:25<00:00,  8.17it/s]\n",
      "2022-12-28 02:55:53,866 : INFO : constructed a sparse term similarity matrix with 0.114089% density\n"
     ]
    }
   ],
   "source": [
    "from gensim.similarities import SparseTermSimilarityMatrix, WordEmbeddingSimilarityIndex\n",
    "import gensim.downloader as api\n",
    "model = api.load('word2vec-google-news-300')\n",
    "\n",
    "termsim_index = WordEmbeddingSimilarityIndex(model)\n",
    "termsim_matrix = SparseTermSimilarityMatrix(termsim_index, dictionary, tfidf)"
   ]
  },
  {
   "cell_type": "code",
   "execution_count": 27,
   "metadata": {},
   "outputs": [],
   "source": [
    "# saving the envirenmental variables\n",
    "import pickle \n",
    "with open(\"termsim_matrix.pickle\",\"wb\") as f :\n",
    "    pickle.dump(termsim_matrix,f)\n",
    "with open(\"tfidf.pickle\",\"wb\") as f :\n",
    "    pickle.dump(tfidf,f)\n",
    "with open(\"dictionary.pickle\",\"wb\") as f :\n",
    "    pickle.dump(dictionary,f)"
   ]
  },
  {
   "cell_type": "markdown",
   "metadata": {},
   "source": [
    "# similarity between 2 sentences"
   ]
  },
  {
   "cell_type": "code",
   "execution_count": null,
   "metadata": {},
   "outputs": [],
   "source": [
    "# loading the envirenmental variables \n",
    "import pickle \n",
    "with open(\"termsim_matrix.pickle\",\"rb\") as f :\n",
    "    termsim_matrix = pickle.load(f)\n",
    "with open(\"tfidf.pickle\",\"rb\") as f :\n",
    "    tfidf = pickle.load(f)\n",
    "with open(\"dictionary.pickle\",\"rb\") as f :\n",
    "    dictionary = pickle.load(f)"
   ]
  },
  {
   "cell_type": "code",
   "execution_count": 30,
   "metadata": {},
   "outputs": [
    {
     "name": "stdout",
     "output_type": "stream",
     "text": [
      "A confident online presence is essential and can have an unprecedented impact on your company’s success. However, some businesses still don’t realize that most of their customers visit their websites before purchasing. If you want to grow your business and increase leads, you need to build a great website with an immediately attractive and informative landing page.\n",
      "#######\n",
      "A microsite is a website separate from your main website, which focuses on branded content or a single topic. It has a different URL, and its primary goal is to centralize relevant content where readers can easily find the information they need. Content hubs offer a collection of content aimed at specific types of customers published by your company to target the right audiences. They can be a website, a microsite, or a blog but not a page where you just pitch your services or products.\n"
     ]
    }
   ],
   "source": [
    "# creating 2 sentences for input\n",
    "s1 = sentences[0]\n",
    "s2 = sentences[1]\n",
    "print(s1)\n",
    "print(\"#######\")\n",
    "print(s2)"
   ]
  },
  {
   "cell_type": "code",
   "execution_count": 31,
   "metadata": {},
   "outputs": [
    {
     "name": "stderr",
     "output_type": "stream",
     "text": [
      "[nltk_data] Downloading package stopwords to\n",
      "[nltk_data]     C:\\Users\\hhich\\AppData\\Roaming\\nltk_data...\n",
      "[nltk_data]   Package stopwords is already up-to-date!\n"
     ]
    }
   ],
   "source": [
    "# Import and download stopwords from NLTK.\n",
    "from nltk.corpus import stopwords\n",
    "from nltk import download\n",
    "download('stopwords')  # Download stopwords list.\n",
    "stop_words = stopwords.words('english')\n"
   ]
  },
  {
   "cell_type": "code",
   "execution_count": 32,
   "metadata": {},
   "outputs": [],
   "source": [
    "# removing the stopwords from a sentence\n",
    "def preprocess(sentence):\n",
    "    return [w for w in sentence.lower().split() if w not in stop_words]"
   ]
  },
  {
   "cell_type": "code",
   "execution_count": 33,
   "metadata": {},
   "outputs": [],
   "source": [
    "# preprocessing the input\n",
    "def prepare_input(s):\n",
    "    precessed_input = preprocess(s)\n",
    "    bow_input = dictionary.doc2bow(precessed_input)\n",
    "    tfidf_input = tfidf[bow_input]\n",
    "    return tfidf_input"
   ]
  },
  {
   "cell_type": "code",
   "execution_count": 34,
   "metadata": {},
   "outputs": [],
   "source": [
    "# transforming the 2 previously prepared sentences\n",
    "in1  = prepare_input(s1)\n",
    "in2 = prepare_input(s2)"
   ]
  },
  {
   "cell_type": "code",
   "execution_count": 35,
   "metadata": {},
   "outputs": [
    {
     "name": "stdout",
     "output_type": "stream",
     "text": [
      "similarity = 0.0502\n"
     ]
    }
   ],
   "source": [
    "# calculating the similarity coefficient\n",
    "similarity = termsim_matrix.inner_product(in1, in2, normalized=(True, True))\n",
    "print('similarity = %.4f' % similarity)\n"
   ]
  },
  {
   "cell_type": "code",
   "execution_count": 39,
   "metadata": {},
   "outputs": [
    {
     "name": "stdout",
     "output_type": "stream",
     "text": [
      "A confident online presence is essential and can have an unprecedented impact on your company’s success. However, some businesses still don’t realize that most of their customers visit their websites before purchasing. If you want to grow your business and increase leads, you need to build a great website with an immediately attractive and informative landing page.\n",
      "#############\n",
      "#############\n",
      "A microsite is a website separate from your main website, which focuses on branded content or a single topic. It has a different URL, and its primary goal is to centralize relevant content where readers can easily find the information they need. Content hubs offer a collection of content aimed at specific types of customers published by your company to target the right audiences. They can be a website, a microsite, or a blog but not a page where you just pitch your services or products.\n"
     ]
    }
   ],
   "source": [
    "print(s1)\n",
    "print(\"#############\")\n",
    "print(\"#############\")\n",
    "print(s2)"
   ]
  },
  {
   "cell_type": "code",
   "execution_count": null,
   "metadata": {},
   "outputs": [],
   "source": []
  }
 ],
 "metadata": {
  "kernelspec": {
   "display_name": "Python 3.9.13 ('base')",
   "language": "python",
   "name": "python3"
  },
  "language_info": {
   "codemirror_mode": {
    "name": "ipython",
    "version": 3
   },
   "file_extension": ".py",
   "mimetype": "text/x-python",
   "name": "python",
   "nbconvert_exporter": "python",
   "pygments_lexer": "ipython3",
   "version": "3.9.13"
  },
  "orig_nbformat": 4,
  "vscode": {
   "interpreter": {
    "hash": "ad2bdc8ecc057115af97d19610ffacc2b4e99fae6737bb82f5d7fb13d2f2c186"
   }
  }
 },
 "nbformat": 4,
 "nbformat_minor": 2
}
