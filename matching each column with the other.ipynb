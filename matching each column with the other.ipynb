{
 "cells": [
  {
   "cell_type": "code",
   "execution_count": 1,
   "metadata": {},
   "outputs": [],
   "source": [
    "import pandas as pd \n",
    "import logging\n",
    "from gensim.models import TfidfModel\n",
    "from nltk.corpus import stopwords\n",
    "from nltk import download\n",
    "from gensim.similarities import SparseTermSimilarityMatrix, WordEmbeddingSimilarityIndex\n",
    "import gensim.downloader as api\n",
    "import pickle \n",
    "from gensim.corpora import Dictionary\n",
    "from tqdm import tqdm"
   ]
  },
  {
   "cell_type": "code",
   "execution_count": 2,
   "metadata": {},
   "outputs": [],
   "source": [
    "\n",
    "# ['Title', 'Type', 'Sector','Key words', 'Problem/Opportunity', \n",
    "#           'Description', 'Added Value','Impact']\n",
    "\n",
    "columns = [\"Key words\",\"Title\",\"Description\"]\n",
    "\n",
    "\n",
    "path = \"./dependencies/\"\n"
   ]
  },
  {
   "cell_type": "code",
   "execution_count": 3,
   "metadata": {},
   "outputs": [
    {
     "name": "stderr",
     "output_type": "stream",
     "text": [
      "[nltk_data] Downloading package stopwords to\n",
      "[nltk_data]     C:\\Users\\hhich\\AppData\\Roaming\\nltk_data...\n",
      "[nltk_data]   Package stopwords is already up-to-date!\n"
     ]
    }
   ],
   "source": [
    "# Initialize logging.\n",
    "logging.basicConfig(\n",
    "    format='%(asctime)s : %(levelname)s : %(message)s', level=logging.INFO)\n",
    "\n",
    "\n",
    "# Import and download stopwords from NLTK.\n",
    "download('stopwords')  # Download stopwords list.\n",
    "stop_words = stopwords.words('english')\n",
    "portuguese = stopwords.words('portuguese')\n",
    "stop_words.extend(portuguese)\n",
    "\n",
    "\n",
    "def file_path(column, variable_name, path=path):\n",
    "    return path+\"\".join(column.split())+\"_\"+variable_name+\".pickle\"\n",
    "\n",
    "\n",
    "df = pd.read_excel('./Example of the original database (1).xlsx')\n",
    "df = df.iloc[:, :11]"
   ]
  },
  {
   "cell_type": "code",
   "execution_count": 4,
   "metadata": {},
   "outputs": [
    {
     "data": {
      "text/html": [
       "<div>\n",
       "<style scoped>\n",
       "    .dataframe tbody tr th:only-of-type {\n",
       "        vertical-align: middle;\n",
       "    }\n",
       "\n",
       "    .dataframe tbody tr th {\n",
       "        vertical-align: top;\n",
       "    }\n",
       "\n",
       "    .dataframe thead th {\n",
       "        text-align: right;\n",
       "    }\n",
       "</style>\n",
       "<table border=\"1\" class=\"dataframe\">\n",
       "  <thead>\n",
       "    <tr style=\"text-align: right;\">\n",
       "      <th></th>\n",
       "      <th>First Name</th>\n",
       "      <th>Last Name</th>\n",
       "      <th>Employee Name</th>\n",
       "      <th>Title</th>\n",
       "      <th>Type</th>\n",
       "      <th>Sector</th>\n",
       "      <th>Key words</th>\n",
       "      <th>Problem/Opportunity</th>\n",
       "      <th>Description</th>\n",
       "      <th>Added Value</th>\n",
       "      <th>Impact</th>\n",
       "    </tr>\n",
       "  </thead>\n",
       "  <tbody>\n",
       "    <tr>\n",
       "      <th>0</th>\n",
       "      <td>Preston</td>\n",
       "      <td>Crawford</td>\n",
       "      <td>Preston Crawford</td>\n",
       "      <td>Brand Websites &amp; Web Pages</td>\n",
       "      <td>Product/Service</td>\n",
       "      <td>Marketing Digital</td>\n",
       "      <td>Website, Business, commerce</td>\n",
       "      <td>grow your business and increase leads</td>\n",
       "      <td>A confident online presence is essential and c...</td>\n",
       "      <td>Business growth, confidance of the clients, be...</td>\n",
       "      <td>Profit growth, customer's loyalty</td>\n",
       "    </tr>\n",
       "    <tr>\n",
       "      <th>1</th>\n",
       "      <td>Violet</td>\n",
       "      <td>Phillips</td>\n",
       "      <td>Violet Phillips</td>\n",
       "      <td>Microsites &amp; Topic Hubs</td>\n",
       "      <td>Product/Service</td>\n",
       "      <td>Marketing Digital</td>\n",
       "      <td>Microsite, Business, contents</td>\n",
       "      <td>focuses on branded content or a single topic  ...</td>\n",
       "      <td>A microsite is a website separate from your ma...</td>\n",
       "      <td>Being more professional, details, innovative</td>\n",
       "      <td>specific contents and well organized business</td>\n",
       "    </tr>\n",
       "    <tr>\n",
       "      <th>2</th>\n",
       "      <td>Frederick</td>\n",
       "      <td>Walker</td>\n",
       "      <td>Frederick Walker</td>\n",
       "      <td>Blogs &amp; Blog Posts</td>\n",
       "      <td>Product/Service</td>\n",
       "      <td>Marketing Digital</td>\n",
       "      <td>Blog, contents, search engine</td>\n",
       "      <td>connect with your customers and answer their p...</td>\n",
       "      <td>The main purpose of a blog is to connect with ...</td>\n",
       "      <td>blog with high-quality and relevant blog posts...</td>\n",
       "      <td>source of content that can be repurposed into ...</td>\n",
       "    </tr>\n",
       "    <tr>\n",
       "      <th>3</th>\n",
       "      <td>Wilson</td>\n",
       "      <td>Henderson</td>\n",
       "      <td>Wilson Henderson</td>\n",
       "      <td>Videos</td>\n",
       "      <td>Product/Service</td>\n",
       "      <td>Marketing Digital</td>\n",
       "      <td>Video, contents, audiance</td>\n",
       "      <td>explainer, onboarding, promotional, social, a...</td>\n",
       "      <td>Another common digital marketing idea is to in...</td>\n",
       "      <td>a versatile and shareable tool to reach their ...</td>\n",
       "      <td>being efficient and convenient</td>\n",
       "    </tr>\n",
       "    <tr>\n",
       "      <th>4</th>\n",
       "      <td>Thomas</td>\n",
       "      <td>Bailey</td>\n",
       "      <td>Thomas Bailey</td>\n",
       "      <td>Ebooks</td>\n",
       "      <td>Product/Service</td>\n",
       "      <td>Marketing Digital</td>\n",
       "      <td>Ebook, Digital, audiance</td>\n",
       "      <td>They can be downloadable gifts to prospects an...</td>\n",
       "      <td>EBooks are a great way to strengthen your bran...</td>\n",
       "      <td>strengthen your brand and reach a broad audience</td>\n",
       "      <td>feels like a personal object of value you’re ...</td>\n",
       "    </tr>\n",
       "  </tbody>\n",
       "</table>\n",
       "</div>"
      ],
      "text/plain": [
       "  First Name  Last Name     Employee Name                       Title  \\\n",
       "0    Preston   Crawford  Preston Crawford  Brand Websites & Web Pages   \n",
       "1     Violet   Phillips   Violet Phillips     Microsites & Topic Hubs   \n",
       "2  Frederick     Walker  Frederick Walker          Blogs & Blog Posts   \n",
       "3     Wilson  Henderson  Wilson Henderson                      Videos   \n",
       "4     Thomas     Bailey     Thomas Bailey                      Ebooks   \n",
       "\n",
       "              Type              Sector                      Key words  \\\n",
       "0  Product/Service  Marketing Digital     Website, Business, commerce   \n",
       "1  Product/Service  Marketing Digital   Microsite, Business, contents   \n",
       "2  Product/Service  Marketing Digital   Blog, contents, search engine   \n",
       "3  Product/Service  Marketing Digital       Video, contents, audiance   \n",
       "4  Product/Service  Marketing Digital        Ebook, Digital, audiance   \n",
       "\n",
       "                                 Problem/Opportunity  \\\n",
       "0              grow your business and increase leads   \n",
       "1  focuses on branded content or a single topic  ...   \n",
       "2  connect with your customers and answer their p...   \n",
       "3   explainer, onboarding, promotional, social, a...   \n",
       "4  They can be downloadable gifts to prospects an...   \n",
       "\n",
       "                                         Description  \\\n",
       "0  A confident online presence is essential and c...   \n",
       "1  A microsite is a website separate from your ma...   \n",
       "2  The main purpose of a blog is to connect with ...   \n",
       "3  Another common digital marketing idea is to in...   \n",
       "4  EBooks are a great way to strengthen your bran...   \n",
       "\n",
       "                                         Added Value  \\\n",
       "0  Business growth, confidance of the clients, be...   \n",
       "1       Being more professional, details, innovative   \n",
       "2  blog with high-quality and relevant blog posts...   \n",
       "3  a versatile and shareable tool to reach their ...   \n",
       "4   strengthen your brand and reach a broad audience   \n",
       "\n",
       "                                              Impact  \n",
       "0                  Profit growth, customer's loyalty  \n",
       "1      specific contents and well organized business  \n",
       "2  source of content that can be repurposed into ...  \n",
       "3                     being efficient and convenient  \n",
       "4   feels like a personal object of value you’re ...  "
      ]
     },
     "execution_count": 4,
     "metadata": {},
     "output_type": "execute_result"
    }
   ],
   "source": [
    "df.head()"
   ]
  },
  {
   "cell_type": "markdown",
   "metadata": {},
   "source": [
    "# creating the models"
   ]
  },
  {
   "cell_type": "code",
   "execution_count": 5,
   "metadata": {},
   "outputs": [
    {
     "name": "stderr",
     "output_type": "stream",
     "text": [
      "2023-01-02 09:32:36,927 : INFO : loading projection weights from C:\\Users\\hhich/gensim-data\\word2vec-google-news-300\\word2vec-google-news-300.gz\n",
      "2023-01-02 09:33:10,332 : INFO : KeyedVectors lifecycle event {'msg': 'loaded (3000000, 300) matrix of type float32 from C:\\\\Users\\\\hhich/gensim-data\\\\word2vec-google-news-300\\\\word2vec-google-news-300.gz', 'binary': True, 'encoding': 'utf8', 'datetime': '2023-01-02T09:33:10.332469', 'gensim': '4.1.2', 'python': '3.9.13 (main, Aug 25 2022, 23:51:50) [MSC v.1916 64 bit (AMD64)]', 'platform': 'Windows-10-10.0.22621-SP0', 'event': 'load_word2vec_format'}\n"
     ]
    }
   ],
   "source": [
    "model = api.load('word2vec-google-news-300')"
   ]
  },
  {
   "cell_type": "code",
   "execution_count": 6,
   "metadata": {},
   "outputs": [],
   "source": [
    "def preprocess(sentence,stop_words=stop_words):\n",
    "    sentence = str(sentence)\n",
    "    return [w for w in sentence.lower().split() if w not in stop_words]\n",
    "\n",
    "def save_variable(column,variable_name,variable): \n",
    "    p = file_path(column,variable_name,path = path)\n",
    "    with open(p,\"wb\") as f :\n",
    "        pickle.dump(variable,f)\n",
    "        \n",
    "        \n",
    "def createtheAI(column,model=model):\n",
    "    sentences = df[column].values\n",
    "    processed_sentences = []\n",
    "    for sentence in sentences : \n",
    "        processed_sentences.append(preprocess(sentence))\n",
    "    # Define dictionary and create bag of words\n",
    "    dictionary = Dictionary(processed_sentences)\n",
    "    bow = [dictionary.doc2bow(sentence) for sentence in processed_sentences]\n",
    "    # Creating the Term Frequency - Inverse Document Frequency\n",
    "    tfidf = TfidfModel(bow)\n",
    "    tfidf_sentences = [tfidf[sentence] for sentence in bow]\n",
    "    # Term Indexing and Similarity Matrix\n",
    "    termsim_index = WordEmbeddingSimilarityIndex(model)\n",
    "    termsim_matrix = SparseTermSimilarityMatrix(termsim_index, dictionary, tfidf)\n",
    "    # Saving the envirenmental variables\n",
    "    save_variable(column, \"termsim_matrix\", termsim_matrix)\n",
    "    save_variable(column,\"tfidf\",tfidf)\n",
    "    save_variable(column,\"dictionary\",dictionary)"
   ]
  },
  {
   "cell_type": "code",
   "execution_count": 7,
   "metadata": {},
   "outputs": [],
   "source": [
    "# loads variables \n",
    "def load_variables(column):\n",
    "    l = [\"termsim_matrix\",\"tfidf\",\"dictionary\"]\n",
    "    paths = []\n",
    "    for variable_name in l :\n",
    "        paths.append(file_path(column, variable_name))\n",
    "    with open(paths[0],\"rb\") as f :\n",
    "        termsim_matrix = pickle.load(f)\n",
    "    with open(paths[1],\"rb\") as f :\n",
    "        tfidf = pickle.load(f)\n",
    "    with open(paths[2],\"rb\") as f :\n",
    "        dictionary = pickle.load(f)\n",
    "        \n",
    "    return termsim_matrix, tfidf, dictionary\n",
    "\n",
    "# preprocessing the input\n",
    "def prepare_input(s, dictionary, tfidf):\n",
    "    precessed_input = preprocess(s)\n",
    "    bow_input = dictionary.doc2bow(precessed_input)\n",
    "    tfidf_input = tfidf[bow_input]\n",
    "    return tfidf_input\n",
    "\n",
    "\n",
    "def calculate_similarity(s1, s2, column):\n",
    "    termsim_matrix, tfidf, dictionary = load_variables(\"Title\")\n",
    "    in1 = prepare_input(s1, dictionary, tfidf)\n",
    "    in2 = prepare_input(s2, dictionary, tfidf)\n",
    "    similarity = termsim_matrix.inner_product(\n",
    "        in1, in2, normalized=(True, True))\n",
    "    return similarity\n",
    "\n",
    "\n",
    "def similarity_between_two_rows(idx1, idx2, available_columns=columns):\n",
    "    sim = 0\n",
    "    for column in available_columns:\n",
    "        s1 = df.loc[idx1, column]\n",
    "        s2 = df.loc[idx2, column]\n",
    "        sim += calculate_similarity(s1, s2, column)\n",
    "    sim = sim/len(available_columns)\n",
    "    return sim\n",
    "\n",
    "def update_sim_dic(columns):\n",
    "    n = len(df)\n",
    "    d = {}\n",
    "    for i in tqdm(range(0,n-1)):\n",
    "        for j in range(i+1,n):\n",
    "            s = similarity_between_two_rows(i,j,columns)\n",
    "            d[f\"{i},{j}\"] = s\n",
    "    with open(path+'d.pickle','wb') as f : \n",
    "        pickle.dump(d,f)"
   ]
  },
  {
   "cell_type": "markdown",
   "metadata": {},
   "source": [
    "> creating the Ai here"
   ]
  },
  {
   "cell_type": "code",
   "execution_count": 8,
   "metadata": {},
   "outputs": [
    {
     "name": "stderr",
     "output_type": "stream",
     "text": [
      "2023-01-01 08:38:09,292 : INFO : adding document #0 to Dictionary(0 unique tokens: [])\n",
      "2023-01-01 08:38:09,292 : INFO : built Dictionary(14 unique tokens: ['business,', 'commerce', 'website,', 'contents', 'microsite,']...) from 400 documents (total 411 corpus positions)\n",
      "2023-01-01 08:38:09,292 : INFO : Dictionary lifecycle event {'msg': \"built Dictionary(14 unique tokens: ['business,', 'commerce', 'website,', 'contents', 'microsite,']...) from 400 documents (total 411 corpus positions)\", 'datetime': '2023-01-01T08:38:09.292356', 'gensim': '4.1.2', 'python': '3.9.13 (main, Aug 25 2022, 23:51:50) [MSC v.1916 64 bit (AMD64)]', 'platform': 'Windows-10-10.0.22621-SP0', 'event': 'created'}\n",
      "2023-01-01 08:38:09,300 : INFO : collecting document frequencies\n",
      "2023-01-01 08:38:09,300 : INFO : PROGRESS: processing document #0\n",
      "2023-01-01 08:38:09,300 : INFO : TfidfModel lifecycle event {'msg': 'calculated IDF weights for 400 documents and 14 features (411 matrix non-zeros)', 'datetime': '2023-01-01T08:38:09.300368', 'gensim': '4.1.2', 'python': '3.9.13 (main, Aug 25 2022, 23:51:50) [MSC v.1916 64 bit (AMD64)]', 'platform': 'Windows-10-10.0.22621-SP0', 'event': 'initialize'}\n",
      "2023-01-01 08:38:09,308 : INFO : constructing a sparse term similarity matrix using WordEmbeddingSimilarityIndex(keyedvectors=<gensim.models.keyedvectors.KeyedVectors object at 0x0000021E17867A30>, threshold=0.0, exponent=2.0, kwargs={})\n",
      "2023-01-01 08:38:09,308 : INFO : iterating over 14 columns in tf-idf order\n",
      "100%|██████████| 14/14 [00:09<00:00,  1.53it/s]\n",
      "2023-01-01 08:38:18,449 : INFO : constructed a sparse term similarity matrix with 7.142857% density\n",
      "2023-01-01 08:38:18,473 : INFO : adding document #0 to Dictionary(0 unique tokens: [])\n",
      "2023-01-01 08:38:18,481 : INFO : built Dictionary(710 unique tokens: ['&', 'brand', 'pages', 'web', 'websites']...) from 400 documents (total 1058 corpus positions)\n",
      "2023-01-01 08:38:18,481 : INFO : Dictionary lifecycle event {'msg': \"built Dictionary(710 unique tokens: ['&', 'brand', 'pages', 'web', 'websites']...) from 400 documents (total 1058 corpus positions)\", 'datetime': '2023-01-01T08:38:18.481802', 'gensim': '4.1.2', 'python': '3.9.13 (main, Aug 25 2022, 23:51:50) [MSC v.1916 64 bit (AMD64)]', 'platform': 'Windows-10-10.0.22621-SP0', 'event': 'created'}\n",
      "2023-01-01 08:38:18,489 : INFO : collecting document frequencies\n",
      "2023-01-01 08:38:18,489 : INFO : PROGRESS: processing document #0\n",
      "2023-01-01 08:38:18,489 : INFO : TfidfModel lifecycle event {'msg': 'calculated IDF weights for 400 documents and 710 features (1057 matrix non-zeros)', 'datetime': '2023-01-01T08:38:18.489808', 'gensim': '4.1.2', 'python': '3.9.13 (main, Aug 25 2022, 23:51:50) [MSC v.1916 64 bit (AMD64)]', 'platform': 'Windows-10-10.0.22621-SP0', 'event': 'initialize'}\n",
      "2023-01-01 08:38:18,505 : INFO : constructing a sparse term similarity matrix using WordEmbeddingSimilarityIndex(keyedvectors=<gensim.models.keyedvectors.KeyedVectors object at 0x0000021E17867A30>, threshold=0.0, exponent=2.0, kwargs={})\n",
      "2023-01-01 08:38:18,505 : INFO : iterating over 710 columns in tf-idf order\n",
      "100%|██████████| 710/710 [02:04<00:00,  5.68it/s]\n",
      "2023-01-01 08:40:23,464 : INFO : constructed a sparse term similarity matrix with 0.407062% density\n",
      "2023-01-01 08:40:23,769 : INFO : adding document #0 to Dictionary(0 unique tokens: [])\n",
      "2023-01-01 08:40:23,835 : INFO : built Dictionary(6095 unique tokens: ['attractive', 'build', 'business', 'businesses', 'company’s']...) from 400 documents (total 17524 corpus positions)\n",
      "2023-01-01 08:40:23,837 : INFO : Dictionary lifecycle event {'msg': \"built Dictionary(6095 unique tokens: ['attractive', 'build', 'business', 'businesses', 'company’s']...) from 400 documents (total 17524 corpus positions)\", 'datetime': '2023-01-01T08:40:23.837894', 'gensim': '4.1.2', 'python': '3.9.13 (main, Aug 25 2022, 23:51:50) [MSC v.1916 64 bit (AMD64)]', 'platform': 'Windows-10-10.0.22621-SP0', 'event': 'created'}\n",
      "2023-01-01 08:40:24,044 : INFO : collecting document frequencies\n",
      "2023-01-01 08:40:24,044 : INFO : PROGRESS: processing document #0\n",
      "2023-01-01 08:40:24,100 : INFO : TfidfModel lifecycle event {'msg': 'calculated IDF weights for 400 documents and 6095 features (15802 matrix non-zeros)', 'datetime': '2023-01-01T08:40:24.100648', 'gensim': '4.1.2', 'python': '3.9.13 (main, Aug 25 2022, 23:51:50) [MSC v.1916 64 bit (AMD64)]', 'platform': 'Windows-10-10.0.22621-SP0', 'event': 'initialize'}\n",
      "2023-01-01 08:40:24,180 : INFO : constructing a sparse term similarity matrix using WordEmbeddingSimilarityIndex(keyedvectors=<gensim.models.keyedvectors.KeyedVectors object at 0x0000021E17867A30>, threshold=0.0, exponent=2.0, kwargs={})\n",
      "2023-01-01 08:40:24,196 : INFO : iterating over 6095 columns in tf-idf order\n",
      "100%|██████████| 6095/6095 [11:25<00:00,  8.89it/s]\n",
      "2023-01-01 08:51:50,162 : INFO : constructed a sparse term similarity matrix with 0.114089% density\n"
     ]
    }
   ],
   "source": [
    "# Creating and saving the AI here\n",
    "# The columns list contains a list of the columns that we are going to use\n",
    "# Check the first cell to find more info about the columns variable\n",
    "for i in columns:\n",
    "    # Calling the function to create the AI here\n",
    "    # All variables are saved in the dependencies folder\n",
    "    createtheAI(i)\n",
    "# update_sim_dic(columns)"
   ]
  },
  {
   "cell_type": "markdown",
   "metadata": {},
   "source": [
    "# similarity between 2 ideas"
   ]
  },
  {
   "cell_type": "code",
   "execution_count": 49,
   "metadata": {},
   "outputs": [],
   "source": [
    "# loads variables \n",
    "def load_variables(column):\n",
    "    l = [\"termsim_matrix\",\"tfidf\",\"dictionary\"]\n",
    "    paths = []\n",
    "    for variable_name in l :\n",
    "        paths.append(file_path(column, variable_name))\n",
    "    with open(paths[0],\"rb\") as f :\n",
    "        termsim_matrix = pickle.load(f)\n",
    "    with open(paths[1],\"rb\") as f :\n",
    "        tfidf = pickle.load(f)\n",
    "    with open(paths[2],\"rb\") as f :\n",
    "        dictionary = pickle.load(f)\n",
    "        \n",
    "    return termsim_matrix, tfidf, dictionary\n",
    "\n",
    "# preprocessing the input\n",
    "\n",
    "\n",
    "def prepare_input(s, dictionary, tfidf):\n",
    "    precessed_input = preprocess(s)\n",
    "    bow_input = dictionary.doc2bow(precessed_input)\n",
    "    tfidf_input = tfidf[bow_input]\n",
    "    return tfidf_input\n",
    "\n",
    "\n",
    "def similarity_with_new_row(new_row, Thresh=0, sim=False, columns=columns, df=df):\n",
    "    n = len(df)\n",
    "    # Contains a list with sim coef of the new row in comparison with all the rows\n",
    "    similarities = []\n",
    "    for i in tqdm(range(n)):\n",
    "        s = 0\n",
    "        for column in columns:\n",
    "            s1 = df.loc[i, column]\n",
    "            s2 = new_row[column]\n",
    "            s += calculate_similarity(s1, s2, column)\n",
    "        similarities.append(s/len(columns))\n",
    "    if sim == True:\n",
    "        m = max(similarities)\n",
    "        indx = similarities.index(m)\n",
    "        return(m, indx)\n",
    "    else:\n",
    "        similars = []\n",
    "        for i in tqdm(range(n)):\n",
    "            if similarities[i] > Thresh:\n",
    "                l = list(df.loc[i, :].values)\n",
    "                similars.append(l)\n",
    "        return similars\n",
    "    \n",
    "            \n",
    "\n",
    "\n",
    "def preprocess(sentence, stop_words=stop_words):\n",
    "    sentence = str(sentence)\n",
    "    return [w for w in sentence.lower().split() if w not in stop_words]\n"
   ]
  },
  {
   "cell_type": "code",
   "execution_count": 9,
   "metadata": {},
   "outputs": [],
   "source": [
    "def update_sim_dic(columns):\n",
    "    n = len(df)\n",
    "    d = {}\n",
    "    for i in tqdm(range(0,n-1)):\n",
    "        for j in range(i+1,n):\n",
    "            s = similarity_between_two_rows(i,j,columns)\n",
    "            d[f\"{i},{j}\"] = s\n",
    "    with open(path+'d.pickle','wb') as f : \n",
    "        pickle.dump(d,f)"
   ]
  },
  {
   "cell_type": "code",
   "execution_count": 32,
   "metadata": {},
   "outputs": [],
   "source": [
    "# loads the dictionary that contains the similarity coefficients\n",
    "def load_sim_dictionary():\n",
    "    with open(path+'d.pickle','rb') as f : \n",
    "        d = pickle.load(f)\n",
    "    return d\n",
    "\n",
    "# Outputs keys for the similar ideas\n",
    "\n",
    "\n",
    "def similar_ideas(thresh=0):\n",
    "    d = load_sim_dictionary()\n",
    "    v = list(d.values())\n",
    "    k = list(d.keys())\n",
    "    l = []\n",
    "    for i in range(len(v)):\n",
    "        if v[i] > thresh:\n",
    "            l.append(k[i])\n",
    "    return l\n",
    "\n",
    "\n",
    "# Outputs the names of the users that have similar ideas\n",
    "def users_with_sim_ideas(thresh, rows=False):\n",
    "    l = similar_ideas(thresh)\n",
    "    names = []\n",
    "    for i in l:\n",
    "        tmp = []\n",
    "        indexes = i.split(',')\n",
    "        if rows == True:\n",
    "            emp1 = list(df.loc[int(indexes[0]), :].values)\n",
    "            emp2 = list(df.loc[int(indexes[1]), :].values)\n",
    "            tmp = [emp1, emp2]\n",
    "            names.append(tmp)\n",
    "        else:\n",
    "            emp1 = df.loc[int(indexes[0]), 'Employee Name']\n",
    "            emp2 = df.loc[int(indexes[1]), 'Employee Name']\n",
    "            tmp = [emp1, emp2]\n",
    "            names.append(tmp)\n",
    "\n",
    "    return names\n"
   ]
  },
  {
   "cell_type": "markdown",
   "metadata": {},
   "source": [
    "> using the AI here"
   ]
  },
  {
   "cell_type": "code",
   "execution_count": null,
   "metadata": {},
   "outputs": [],
   "source": [
    "update_sim_dic(columns)"
   ]
  },
  {
   "cell_type": "code",
   "execution_count": 10,
   "metadata": {},
   "outputs": [],
   "source": [
    "d = load_sim_dictionary()"
   ]
  },
  {
   "cell_type": "code",
   "execution_count": 11,
   "metadata": {},
   "outputs": [
    {
     "data": {
      "text/plain": [
       "0.43527937"
      ]
     },
     "execution_count": 11,
     "metadata": {},
     "output_type": "execute_result"
    }
   ],
   "source": [
    "# using the previewsly created AI\n",
    "# this is a small example of how to calculate similarity\n",
    "column = 'Title'\n",
    "s1 = 'Social Media Marketing'\n",
    "s2 = 'Launch Social Media Audience Lookalike Ads',\n",
    "calculate_similarity(s1,s2,column)"
   ]
  },
  {
   "cell_type": "code",
   "execution_count": 12,
   "metadata": {},
   "outputs": [
    {
     "name": "stdout",
     "output_type": "stream",
     "text": [
      "\n",
      "maximum similarity coeff is 0.8627 \n",
      "which can be found when comaparing the lines 278,283 of the dataset\n"
     ]
    }
   ],
   "source": [
    "k = list(d.keys())\n",
    "v = list(d.values())\n",
    "m = max(v)\n",
    "idx = v.index(m)\n",
    "max_combination = k[idx]\n",
    "print(f\"\"\"\n",
    "maximum similarity coeff is {m:.4} \n",
    "which can be found when comaparing the lines { max_combination } of the dataset\"\"\")\n"
   ]
  },
  {
   "cell_type": "code",
   "execution_count": 33,
   "metadata": {},
   "outputs": [
    {
     "data": {
      "text/plain": [
       "[['Catherine',\n",
       "  'Grant',\n",
       "  'Catherine Grant',\n",
       "  'Free Shipping ',\n",
       "  'Process',\n",
       "  'E-commerce',\n",
       "  nan,\n",
       "  nan,\n",
       "  'The most significant reason why consumers in the U.S. abandon their carts is due to high, unexpected extra costs (like shipping). As a result, offering free shipping is a form of sales promotion as consumers are more likely to follow through with their purchases if they’re not hit with additional costs when they check out. ',\n",
       "  nan,\n",
       "  nan],\n",
       " ['Eric',\n",
       "  'Perry',\n",
       "  'Eric Perry',\n",
       "  'Free shipping',\n",
       "  'Business',\n",
       "  'E-commerce',\n",
       "  nan,\n",
       "  nan,\n",
       "  'Free shipping is a common sales promotion idea for businesses that conduct a lot of sales online. You can offer customers limited-time free shipping with no minimum purchase amount, or you can offer free shipping to customers who meet a purchase amount threshold. This can help you convert customers who add items to a cart but abandon it when the site adds the extra costs, such as tax and shipping, to their total.',\n",
       "  nan,\n",
       "  nan]]"
      ]
     },
     "execution_count": 33,
     "metadata": {},
     "output_type": "execute_result"
    }
   ],
   "source": [
    "users = users_with_sim_ideas(0.8,rows=True)\n",
    "users[0]"
   ]
  },
  {
   "cell_type": "code",
   "execution_count": 16,
   "metadata": {},
   "outputs": [],
   "source": [
    "# calculate the coeff of similarity between new idea and previous ideas\n",
    "# return the entire row instead of just the user_names\n",
    "# update the AI variables\n",
    "# hosting the AI \n",
    "# !!! presentation powerpoint to the ideas and key words and key libraries !!!"
   ]
  },
  {
   "cell_type": "code",
   "execution_count": 38,
   "metadata": {},
   "outputs": [],
   "source": [
    "df_cols = df.columns\n",
    "d = {}\n",
    "for i in df_cols : \n",
    "    a = input(f\"{i} :\")\n",
    "    d[i] = a"
   ]
  },
  {
   "cell_type": "code",
   "execution_count": 43,
   "metadata": {},
   "outputs": [],
   "source": [
    "new_row = {'First Name': 'sahar',\n",
    " 'Last Name': 'hattab',\n",
    " 'Employee Name': 'sahar hattab',\n",
    " 'Title': 'Brand Websites & Web Pages',\n",
    " 'Type': 'Product/Service',\n",
    " 'Sector': 'Marketing Digital ',\n",
    " 'Key words': 'Ebook, Digital, audiance',\n",
    " 'Problem/Opportunity': 'grow your business and increase leads',\n",
    " 'Description': 'A confident online presence is essential and can have an unprecedented impact on your company’s success. However, some businesses still don’t realize that most of their customers visit their websites before purchasing. If you want to grow your business and increase leads, you need to build a great website with an immediately attractive and informative landing page.',\n",
    " 'Added Value': 'Business growth, confidance of the clients, benig more professional ',\n",
    " 'Impact': \"Profit growth, customer's loyalty\"}"
   ]
  },
  {
   "cell_type": "code",
   "execution_count": 48,
   "metadata": {},
   "outputs": [
    {
     "name": "stderr",
     "output_type": "stream",
     "text": [
      "100%|██████████| 400/400 [00:03<00:00, 131.69it/s]\n",
      "100%|██████████| 400/400 [00:00<?, ?it/s]\n"
     ]
    },
    {
     "data": {
      "text/plain": [
       "[['Preston',\n",
       "  'Crawford',\n",
       "  'Preston Crawford',\n",
       "  'Brand Websites & Web Pages',\n",
       "  'Product/Service',\n",
       "  'Marketing Digital ',\n",
       "  'Website, Business, commerce',\n",
       "  'grow your business and increase leads',\n",
       "  'A confident online presence is essential and can have an unprecedented impact on your company’s success. However, some businesses still don’t realize that most of their customers visit their websites before purchasing. If you want to grow your business and increase leads, you need to build a great website with an immediately attractive and informative landing page.',\n",
       "  'Business growth, confidance of the clients, benig more professional ',\n",
       "  \"Profit growth, customer's loyalty\"],\n",
       " ['Thomas',\n",
       "  'Bailey',\n",
       "  'Thomas Bailey',\n",
       "  'Ebooks',\n",
       "  'Product/Service',\n",
       "  'Marketing Digital ',\n",
       "  'Ebook, Digital, audiance',\n",
       "  'They can be downloadable gifts to prospects and generate more leads, or you can incrementally increase revenue by selling them',\n",
       "  'EBooks are a great way to strengthen your brand and reach a broad audience. They are digital, so people can download hundreds of eBooks to their devices and read them anywhere. Ebooks are also versatile, and you can offer them in different formats. They can be downloadable gifts to prospects and generate more leads, or you can incrementally increase revenue by selling them. A downloadable eBook feels like a personal object of value you’re giving a customer and can enhance your business professionalism. ',\n",
       "  'strengthen your brand and reach a broad audience',\n",
       "  ' feels like a personal object of value you’re giving a customer and can enhance your business professionalism'],\n",
       " ['Dainton',\n",
       "  'Kelly',\n",
       "  'Dainton Kelly',\n",
       "  'On your website',\n",
       "  nan,\n",
       "  'Transportation',\n",
       "  nan,\n",
       "  nan,\n",
       "  'Your website is the hub for all of your digital marketing. Whether you’re posting on social media or paying for a Google ad — more on both of those techniques later — you ultimately want to draw people back to your website so they can buy from you. ',\n",
       "  nan,\n",
       "  nan],\n",
       " ['Miranda',\n",
       "  'Warren',\n",
       "  'Miranda Warren',\n",
       "  'The landing page of the website',\n",
       "  nan,\n",
       "  'Design',\n",
       "  nan,\n",
       "  nan,\n",
       "  'A landing page is an excellent project to include in your portfolio because you will almost certainly create many of them during your UX design career.  Businesses use landing pages to collect and share information. It is your role as a UX designer to ensure that each experience is seamless.  Create a lead generation landing page that encourages viewers to share their contact information. A website landing page listing a company’s services can also be used.',\n",
       "  nan,\n",
       "  nan],\n",
       " ['Charlie',\n",
       "  'Thompson',\n",
       "  'Charlie Thompson',\n",
       "  'Build landing pages',\n",
       "  nan,\n",
       "  'CRM',\n",
       "  nan,\n",
       "  nan,\n",
       "  'An all-in-one CRM can build landing pages that are personalized, on-brand, and beautiful — all without the help of a developer. There are built-in landing page templates that are ready for you to customize, as well as a drag-and-drop landing page builder so your landing page is ready to go in minutes.   In addition to personalized content, you can elect to add unique CTAs and forms, as well as dynamically show content to match different stages of the buyer’s journey, contact data, source, or device. Then, optimize, test, and analyze your landing page’s performance all from your CRM.',\n",
       "  nan,\n",
       "  nan]]"
      ]
     },
     "execution_count": 48,
     "metadata": {},
     "output_type": "execute_result"
    }
   ],
   "source": [
    "similarity_with_new_row(new_row,Thresh=0.4)"
   ]
  },
  {
   "cell_type": "code",
   "execution_count": null,
   "metadata": {},
   "outputs": [],
   "source": []
  }
 ],
 "metadata": {
  "kernelspec": {
   "display_name": "Python 3.9.13 ('base')",
   "language": "python",
   "name": "python3"
  },
  "language_info": {
   "codemirror_mode": {
    "name": "ipython",
    "version": 3
   },
   "file_extension": ".py",
   "mimetype": "text/x-python",
   "name": "python",
   "nbconvert_exporter": "python",
   "pygments_lexer": "ipython3",
   "version": "3.9.13"
  },
  "orig_nbformat": 4,
  "vscode": {
   "interpreter": {
    "hash": "ad2bdc8ecc057115af97d19610ffacc2b4e99fae6737bb82f5d7fb13d2f2c186"
   }
  }
 },
 "nbformat": 4,
 "nbformat_minor": 2
}
